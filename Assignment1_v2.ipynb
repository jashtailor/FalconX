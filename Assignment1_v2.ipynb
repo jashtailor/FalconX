{
 "cells": [
  {
   "cell_type": "code",
   "execution_count": 1,
   "metadata": {},
   "outputs": [],
   "source": [
    "import wget"
   ]
  },
  {
   "cell_type": "code",
   "execution_count": 2,
   "metadata": {},
   "outputs": [],
   "source": [
    "# root url\n",
    "url = 'https://data.binance.vision/data/spot/daily/trades/'"
   ]
  },
  {
   "cell_type": "code",
   "execution_count": 3,
   "metadata": {},
   "outputs": [
    {
     "name": "stdout",
     "output_type": "stream",
     "text": [
      "BTCUSDT/\n"
     ]
    }
   ],
   "source": [
    "# asking the user for the symbol for which he/she wants the trades for the day\n",
    "# symbol = input('Enter the symbol')\n",
    "\n",
    "# defining BTCUSDT here as that's what the assignment asks for \n",
    "symbol = 'BTCUSDT'\n",
    "symbol1 = symbol + '/'\n",
    "print(symbol1)"
   ]
  },
  {
   "cell_type": "code",
   "execution_count": 4,
   "metadata": {},
   "outputs": [
    {
     "name": "stdout",
     "output_type": "stream",
     "text": [
      "https://data.binance.vision/data/spot/daily/trades/BTCUSDT/\n"
     ]
    }
   ],
   "source": [
    "# this creates the link to the website which contains trades of all the days of that particular symbol\n",
    "symbol_url = url + symbol1\n",
    "print(symbol_url)"
   ]
  },
  {
   "cell_type": "code",
   "execution_count": 5,
   "metadata": {},
   "outputs": [
    {
     "name": "stdout",
     "output_type": "stream",
     "text": [
      "2022-03-01\n",
      "BTCUSDT-trades-2022-03-01.zip\n"
     ]
    }
   ],
   "source": [
    "# asking the user to input the desired date for which he/she wants to download the trade copies\n",
    "# date = input('Enter the date for which you want to download the trade copies in YYYY-MM-DD format')\n",
    "\n",
    "# defining the date as 1st of March for prototyping purposes\n",
    "date = '2022-03-01'\n",
    "print(date)\n",
    "file_name = symbol + '-trades-' + date + '.zip'\n",
    "print(file_name)"
   ]
  },
  {
   "cell_type": "code",
   "execution_count": 6,
   "metadata": {},
   "outputs": [
    {
     "name": "stdout",
     "output_type": "stream",
     "text": [
      "https://data.binance.vision/data/spot/daily/trades/BTCUSDT/BTCUSDT-trades-2022-03-01.zip\n"
     ]
    }
   ],
   "source": [
    "# creating the download link \n",
    "download_url = symbol_url + file_name\n",
    "print(download_url)"
   ]
  },
  {
   "cell_type": "code",
   "execution_count": 7,
   "metadata": {},
   "outputs": [
    {
     "data": {
      "text/plain": [
       "'BTCUSDT-trades-2022-03-01 (1).zip'"
      ]
     },
     "execution_count": 7,
     "metadata": {},
     "output_type": "execute_result"
    }
   ],
   "source": [
    "# downloading the file\n",
    "wget.download(download_url, file_name)"
   ]
  },
  {
   "cell_type": "code",
   "execution_count": 8,
   "metadata": {},
   "outputs": [],
   "source": [
    "# extracting the files\n",
    "import zipfile\n",
    "with zipfile.ZipFile(file_name, 'r') as zip_ref:\n",
    "    zip_ref.extractall()"
   ]
  },
  {
   "cell_type": "code",
   "execution_count": 9,
   "metadata": {},
   "outputs": [],
   "source": [
    "# this is a comprehensive function which downloads files and unzips thems\n",
    "# a particular disadvantage of this function is that the user will have to input the symbol and date again and again which might not be desired \n",
    "# to combat this problem if a frontend is made for this program a drop-down menu can be used to which would reduce the users work\n",
    "def download(symbol, date):\n",
    "    url = 'https://data.binance.vision/data/spot/daily/trades/'\n",
    "    symbol1 = symbol + '/'\n",
    "    symbol_url = url + symbol1\n",
    "    file_name = symbol + '-trades-' + date + '.zip'\n",
    "    download_url = symbol_url + file_name\n",
    "    wget.download(download_url, file_name)\n",
    "    print(file_name, ' downloaded')\n",
    "    with zipfile.ZipFile(file_name, 'r') as zip_ref:\n",
    "        zip_ref.extractall()\n",
    "\n",
    "symbol = input('Enter the symbol')\n",
    "date = input('Enter the date for which you want to download the trade copies in YYYY-MM-DD format')"
   ]
  },
  {
   "cell_type": "code",
   "execution_count": null,
   "metadata": {},
   "outputs": [],
   "source": [
    "download('BTCUSDT', '2022-03-01')\n",
    "download('BTCUSDT', '2022-03-02')\n",
    "download('BTCUSDT', '2022-03-03')"
   ]
  }
 ],
 "metadata": {
  "interpreter": {
   "hash": "63fd5069d213b44bf678585dea6b12cceca9941eaf7f819626cde1f2670de90d"
  },
  "kernelspec": {
   "display_name": "Python 3.9.0 64-bit",
   "language": "python",
   "name": "python3"
  },
  "language_info": {
   "codemirror_mode": {
    "name": "ipython",
    "version": 3
   },
   "file_extension": ".py",
   "mimetype": "text/x-python",
   "name": "python",
   "nbconvert_exporter": "python",
   "pygments_lexer": "ipython3",
   "version": "3.9.0"
  },
  "orig_nbformat": 4
 },
 "nbformat": 4,
 "nbformat_minor": 2
}
